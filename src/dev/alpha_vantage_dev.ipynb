{
 "cells": [
  {
   "cell_type": "code",
   "execution_count": 1,
   "metadata": {},
   "outputs": [],
   "source": [
    "import pandas as pd\n",
    "import numpy as np\n",
    "from alpha_vantage.timeseries import TimeSeries"
   ]
  },
  {
   "cell_type": "code",
   "execution_count": 3,
   "metadata": {},
   "outputs": [],
   "source": [
    "# Your key here\n",
    "key = 'OQX9VO6JOXSLUBGF'\n",
    "ts = TimeSeries(key)\n",
    "aapl, meta = ts.get_intraday(symbol='AAPL')"
   ]
  },
  {
   "cell_type": "code",
   "execution_count": 11,
   "metadata": {},
   "outputs": [],
   "source": [
    "\n",
    "def parse_ts(ts:dict):\n",
    "    \"\"\"Given time series data in a dictionary format, return results in a pandas df\"\"\"\n",
    "    return pd.DataFrame.from_dict(aapl, orient='index')"
   ]
  },
  {
   "cell_type": "code",
   "execution_count": 12,
   "metadata": {},
   "outputs": [
    {
     "data": {
      "text/html": [
       "<div>\n",
       "<style scoped>\n",
       "    .dataframe tbody tr th:only-of-type {\n",
       "        vertical-align: middle;\n",
       "    }\n",
       "\n",
       "    .dataframe tbody tr th {\n",
       "        vertical-align: top;\n",
       "    }\n",
       "\n",
       "    .dataframe thead th {\n",
       "        text-align: right;\n",
       "    }\n",
       "</style>\n",
       "<table border=\"1\" class=\"dataframe\">\n",
       "  <thead>\n",
       "    <tr style=\"text-align: right;\">\n",
       "      <th></th>\n",
       "      <th>1. open</th>\n",
       "      <th>2. high</th>\n",
       "      <th>3. low</th>\n",
       "      <th>4. close</th>\n",
       "      <th>5. volume</th>\n",
       "    </tr>\n",
       "  </thead>\n",
       "  <tbody>\n",
       "    <tr>\n",
       "      <th>2020-03-20 16:00:00</th>\n",
       "      <td>235.9000</td>\n",
       "      <td>237.1500</td>\n",
       "      <td>228.1500</td>\n",
       "      <td>228.7500</td>\n",
       "      <td>11725908</td>\n",
       "    </tr>\n",
       "    <tr>\n",
       "      <th>2020-03-20 15:45:00</th>\n",
       "      <td>241.8000</td>\n",
       "      <td>242.6200</td>\n",
       "      <td>235.0000</td>\n",
       "      <td>235.9100</td>\n",
       "      <td>5514903</td>\n",
       "    </tr>\n",
       "    <tr>\n",
       "      <th>2020-03-20 15:30:00</th>\n",
       "      <td>241.8400</td>\n",
       "      <td>241.9900</td>\n",
       "      <td>240.1200</td>\n",
       "      <td>241.7500</td>\n",
       "      <td>2575657</td>\n",
       "    </tr>\n",
       "    <tr>\n",
       "      <th>2020-03-20 15:15:00</th>\n",
       "      <td>241.5600</td>\n",
       "      <td>242.7100</td>\n",
       "      <td>241.1700</td>\n",
       "      <td>241.8700</td>\n",
       "      <td>2132493</td>\n",
       "    </tr>\n",
       "    <tr>\n",
       "      <th>2020-03-20 15:00:00</th>\n",
       "      <td>243.4500</td>\n",
       "      <td>244.4350</td>\n",
       "      <td>241.1600</td>\n",
       "      <td>241.5700</td>\n",
       "      <td>2240201</td>\n",
       "    </tr>\n",
       "    <tr>\n",
       "      <th>...</th>\n",
       "      <td>...</td>\n",
       "      <td>...</td>\n",
       "      <td>...</td>\n",
       "      <td>...</td>\n",
       "      <td>...</td>\n",
       "    </tr>\n",
       "    <tr>\n",
       "      <th>2020-03-17 11:45:00</th>\n",
       "      <td>251.7000</td>\n",
       "      <td>252.1090</td>\n",
       "      <td>248.6700</td>\n",
       "      <td>250.5400</td>\n",
       "      <td>1974827</td>\n",
       "    </tr>\n",
       "    <tr>\n",
       "      <th>2020-03-17 11:30:00</th>\n",
       "      <td>253.8463</td>\n",
       "      <td>254.1900</td>\n",
       "      <td>251.5000</td>\n",
       "      <td>251.7000</td>\n",
       "      <td>2348767</td>\n",
       "    </tr>\n",
       "    <tr>\n",
       "      <th>2020-03-17 11:15:00</th>\n",
       "      <td>250.2900</td>\n",
       "      <td>253.9500</td>\n",
       "      <td>249.7300</td>\n",
       "      <td>253.8600</td>\n",
       "      <td>2829254</td>\n",
       "    </tr>\n",
       "    <tr>\n",
       "      <th>2020-03-17 11:00:00</th>\n",
       "      <td>247.3200</td>\n",
       "      <td>251.4400</td>\n",
       "      <td>247.0200</td>\n",
       "      <td>250.3400</td>\n",
       "      <td>3318630</td>\n",
       "    </tr>\n",
       "    <tr>\n",
       "      <th>2020-03-17 10:45:00</th>\n",
       "      <td>244.7600</td>\n",
       "      <td>247.5000</td>\n",
       "      <td>244.4600</td>\n",
       "      <td>247.2300</td>\n",
       "      <td>2759644</td>\n",
       "    </tr>\n",
       "  </tbody>\n",
       "</table>\n",
       "<p>100 rows × 5 columns</p>\n",
       "</div>"
      ],
      "text/plain": [
       "                      1. open   2. high    3. low  4. close 5. volume\n",
       "2020-03-20 16:00:00  235.9000  237.1500  228.1500  228.7500  11725908\n",
       "2020-03-20 15:45:00  241.8000  242.6200  235.0000  235.9100   5514903\n",
       "2020-03-20 15:30:00  241.8400  241.9900  240.1200  241.7500   2575657\n",
       "2020-03-20 15:15:00  241.5600  242.7100  241.1700  241.8700   2132493\n",
       "2020-03-20 15:00:00  243.4500  244.4350  241.1600  241.5700   2240201\n",
       "...                       ...       ...       ...       ...       ...\n",
       "2020-03-17 11:45:00  251.7000  252.1090  248.6700  250.5400   1974827\n",
       "2020-03-17 11:30:00  253.8463  254.1900  251.5000  251.7000   2348767\n",
       "2020-03-17 11:15:00  250.2900  253.9500  249.7300  253.8600   2829254\n",
       "2020-03-17 11:00:00  247.3200  251.4400  247.0200  250.3400   3318630\n",
       "2020-03-17 10:45:00  244.7600  247.5000  244.4600  247.2300   2759644\n",
       "\n",
       "[100 rows x 5 columns]"
      ]
     },
     "execution_count": 12,
     "metadata": {},
     "output_type": "execute_result"
    }
   ],
   "source": [
    "parse_ts(aapl)"
   ]
  },
  {
   "cell_type": "code",
   "execution_count": 14,
   "metadata": {},
   "outputs": [
    {
     "data": {
      "text/plain": [
       "({'01. symbol': 'AAPL',\n",
       "  '02. open': '247.1800',\n",
       "  '03. high': '251.8300',\n",
       "  '04. low': '228.0000',\n",
       "  '05. price': '229.2400',\n",
       "  '06. volume': '99706854',\n",
       "  '07. latest trading day': '2020-03-20',\n",
       "  '08. previous close': '244.7800',\n",
       "  '09. change': '-15.5400',\n",
       "  '10. change percent': '-6.3486%'},\n",
       " None)"
      ]
     },
     "execution_count": 14,
     "metadata": {},
     "output_type": "execute_result"
    }
   ],
   "source": [
    "q = ts.get_quote_endpoint(symbol='AAPL')\n",
    "q"
   ]
  },
  {
   "cell_type": "code",
   "execution_count": 17,
   "metadata": {},
   "outputs": [
    {
     "data": {
      "text/plain": [
       "229.24"
      ]
     },
     "execution_count": 17,
     "metadata": {},
     "output_type": "execute_result"
    }
   ],
   "source": [
    "# get current stock price\n",
    "float(q[0]['05. price'])"
   ]
  },
  {
   "cell_type": "code",
   "execution_count": null,
   "metadata": {},
   "outputs": [],
   "source": []
  }
 ],
 "metadata": {
  "kernelspec": {
   "display_name": "Python 3",
   "language": "python",
   "name": "python3"
  },
  "language_info": {
   "codemirror_mode": {
    "name": "ipython",
    "version": 3
   },
   "file_extension": ".py",
   "mimetype": "text/x-python",
   "name": "python",
   "nbconvert_exporter": "python",
   "pygments_lexer": "ipython3",
   "version": "3.7.6"
  }
 },
 "nbformat": 4,
 "nbformat_minor": 2
}
